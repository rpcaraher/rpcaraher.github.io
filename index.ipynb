{
  "cells": [
    {
      "cell_type": "raw",
      "metadata": {},
      "source": [
        "---\n",
        "title: \"Raymond Caraher\"\n",
        "toc: false\n",
        "about:\n",
        "  template: trestles\n",
        "  image: files/prof_pic.JPG\n",
        "---"
      ],
      "id": "2fc6c16c"
    },
    {
      "cell_type": "markdown",
      "metadata": {},
      "source": [
        "## About\n",
        "\n",
        "Ray is a PhD Candidate in the [Department of Economics](https://www.umass.edu/economics/) at the [University of Massachusetts Amherst](https://www.umass.edu). \n",
        "His interests are primarily in health economics, labor economics, political economy, and the economics of race and gender.\n",
        "His dissertation focuses on using methods from economics to understand the social, health, and economic effects of the overturning of Roe v. Wade.\n",
        "He was recently a research assistant at the [Political Economy Research Institute (PERI)](https://peri.umass.edu) and has worked on a wide range of projects with PERI faculty including on topics related to climate change, labor market policy, unions, and development aid.\n"
      ],
      "id": "e1dd02fb"
    },
    {
      "cell_type": "markdown",
      "metadata": {},
      "source": [
        "---\n",
        "```{css}\n",
        "#| echo: false\n",
        "p {\n",
        "  text-align: justify\n",
        "}\n",
        "```\n",
        "## Contact\n",
        "\n",
        "### Office Address\n",
        "\n",
        "106 Gordon Hall \\\n",
        "418 North Pleasant Street \\\n",
        "Amherst, MA 01002 \\\n",
        "United States\n",
        "\n",
        "### Email\n",
        "\n",
        "<rcaraher@umass.edu>\n",
        "\n",
        "### Website\n",
        "\n",
        "<https://raymondcaraher.com>"
      ],
      "id": "9bad8d05"
    }
  ],
  "metadata": {
    "kernelspec": {
      "display_name": "Python 3",
      "language": "python",
      "name": "python3"
    }
  },
  "nbformat": 4,
  "nbformat_minor": 5
}